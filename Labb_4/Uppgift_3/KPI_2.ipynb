{
 "cells": [
  {
   "cell_type": "markdown",
   "metadata": {},
   "source": [
    "### compare the amount of vaccinated people according to age group\n",
    "- taking a glance at the data, we notice that the older the person is, the more likely they are to take more doses\n",
    "- check if this is true"
   ]
  },
  {
   "cell_type": "code",
   "execution_count": 1,
   "metadata": {},
   "outputs": [
    {
     "data": {
      "text/html": [
       "<div>\n",
       "<style scoped>\n",
       "    .dataframe tbody tr th:only-of-type {\n",
       "        vertical-align: middle;\n",
       "    }\n",
       "\n",
       "    .dataframe tbody tr th {\n",
       "        vertical-align: top;\n",
       "    }\n",
       "\n",
       "    .dataframe thead th {\n",
       "        text-align: right;\n",
       "    }\n",
       "</style>\n",
       "<table border=\"1\" class=\"dataframe\">\n",
       "  <thead>\n",
       "    <tr style=\"text-align: right;\">\n",
       "      <th></th>\n",
       "      <th>Region</th>\n",
       "      <th>Åldersgrupp</th>\n",
       "      <th>Antal vaccinerade</th>\n",
       "      <th>Andel vaccinerade</th>\n",
       "      <th>Vaccinationsstatus</th>\n",
       "    </tr>\n",
       "  </thead>\n",
       "  <tbody>\n",
       "    <tr>\n",
       "      <th>0</th>\n",
       "      <td>| Sverige |</td>\n",
       "      <td>18-29</td>\n",
       "      <td>40593</td>\n",
       "      <td>0.027503</td>\n",
       "      <td>Minst 4 doser</td>\n",
       "    </tr>\n",
       "    <tr>\n",
       "      <th>1</th>\n",
       "      <td>| Sverige |</td>\n",
       "      <td>30-39</td>\n",
       "      <td>78949</td>\n",
       "      <td>0.053795</td>\n",
       "      <td>Minst 4 doser</td>\n",
       "    </tr>\n",
       "    <tr>\n",
       "      <th>2</th>\n",
       "      <td>| Sverige |</td>\n",
       "      <td>40-49</td>\n",
       "      <td>133004</td>\n",
       "      <td>0.102456</td>\n",
       "      <td>Minst 4 doser</td>\n",
       "    </tr>\n",
       "    <tr>\n",
       "      <th>3</th>\n",
       "      <td>| Sverige |</td>\n",
       "      <td>50-59</td>\n",
       "      <td>259570</td>\n",
       "      <td>0.193738</td>\n",
       "      <td>Minst 4 doser</td>\n",
       "    </tr>\n",
       "    <tr>\n",
       "      <th>4</th>\n",
       "      <td>| Sverige |</td>\n",
       "      <td>60-69</td>\n",
       "      <td>560375</td>\n",
       "      <td>0.499478</td>\n",
       "      <td>Minst 4 doser</td>\n",
       "    </tr>\n",
       "    <tr>\n",
       "      <th>5</th>\n",
       "      <td>| Sverige |</td>\n",
       "      <td>70-79</td>\n",
       "      <td>828445</td>\n",
       "      <td>0.801892</td>\n",
       "      <td>Minst 4 doser</td>\n",
       "    </tr>\n",
       "    <tr>\n",
       "      <th>6</th>\n",
       "      <td>| Sverige |</td>\n",
       "      <td>80-89</td>\n",
       "      <td>428931</td>\n",
       "      <td>0.863475</td>\n",
       "      <td>Minst 4 doser</td>\n",
       "    </tr>\n",
       "    <tr>\n",
       "      <th>7</th>\n",
       "      <td>| Sverige |</td>\n",
       "      <td>90 eller äldre</td>\n",
       "      <td>97491</td>\n",
       "      <td>0.854128</td>\n",
       "      <td>Minst 4 doser</td>\n",
       "    </tr>\n",
       "  </tbody>\n",
       "</table>\n",
       "</div>"
      ],
      "text/plain": [
       "        Region     Åldersgrupp  Antal vaccinerade  Andel vaccinerade  \\\n",
       "0  | Sverige |           18-29              40593           0.027503   \n",
       "1  | Sverige |           30-39              78949           0.053795   \n",
       "2  | Sverige |           40-49             133004           0.102456   \n",
       "3  | Sverige |           50-59             259570           0.193738   \n",
       "4  | Sverige |           60-69             560375           0.499478   \n",
       "5  | Sverige |           70-79             828445           0.801892   \n",
       "6  | Sverige |           80-89             428931           0.863475   \n",
       "7  | Sverige |  90 eller äldre              97491           0.854128   \n",
       "\n",
       "  Vaccinationsstatus  \n",
       "0      Minst 4 doser  \n",
       "1      Minst 4 doser  \n",
       "2      Minst 4 doser  \n",
       "3      Minst 4 doser  \n",
       "4      Minst 4 doser  \n",
       "5      Minst 4 doser  \n",
       "6      Minst 4 doser  \n",
       "7      Minst 4 doser  "
      ]
     },
     "execution_count": 1,
     "metadata": {},
     "output_type": "execute_result"
    }
   ],
   "source": [
    "import pandas as pd\n",
    "import plotly_express as px\n",
    "\n",
    "df = pd.read_excel(\"../Data/Folkhalsomyndigheten_Covid19_Vaccine.xlsx\", sheet_name=\"Dos 4 18+\")\n",
    "df_sverige = df.head(8)\n",
    "df_sverige"
   ]
  },
  {
   "cell_type": "code",
   "execution_count": 2,
   "metadata": {},
   "outputs": [
    {
     "data": {
      "text/html": [
       "<div>\n",
       "<style scoped>\n",
       "    .dataframe tbody tr th:only-of-type {\n",
       "        vertical-align: middle;\n",
       "    }\n",
       "\n",
       "    .dataframe tbody tr th {\n",
       "        vertical-align: top;\n",
       "    }\n",
       "\n",
       "    .dataframe thead th {\n",
       "        text-align: right;\n",
       "    }\n",
       "</style>\n",
       "<table border=\"1\" class=\"dataframe\">\n",
       "  <thead>\n",
       "    <tr style=\"text-align: right;\">\n",
       "      <th></th>\n",
       "      <th>Region</th>\n",
       "      <th>Åldersgrupp</th>\n",
       "      <th>Antal vaccinerade</th>\n",
       "      <th>Andel vaccinerade</th>\n",
       "      <th>Vaccinationsstatus</th>\n",
       "    </tr>\n",
       "  </thead>\n",
       "  <tbody>\n",
       "    <tr>\n",
       "      <th>0</th>\n",
       "      <td>| Sverige |</td>\n",
       "      <td>18-29</td>\n",
       "      <td>40593</td>\n",
       "      <td>0.027503</td>\n",
       "      <td>Minst 4 doser</td>\n",
       "    </tr>\n",
       "    <tr>\n",
       "      <th>1</th>\n",
       "      <td>| Sverige |</td>\n",
       "      <td>30-39</td>\n",
       "      <td>78949</td>\n",
       "      <td>0.053795</td>\n",
       "      <td>Minst 4 doser</td>\n",
       "    </tr>\n",
       "    <tr>\n",
       "      <th>2</th>\n",
       "      <td>| Sverige |</td>\n",
       "      <td>40-49</td>\n",
       "      <td>133004</td>\n",
       "      <td>0.102456</td>\n",
       "      <td>Minst 4 doser</td>\n",
       "    </tr>\n",
       "    <tr>\n",
       "      <th>3</th>\n",
       "      <td>| Sverige |</td>\n",
       "      <td>50-59</td>\n",
       "      <td>259570</td>\n",
       "      <td>0.193738</td>\n",
       "      <td>Minst 4 doser</td>\n",
       "    </tr>\n",
       "    <tr>\n",
       "      <th>4</th>\n",
       "      <td>| Sverige |</td>\n",
       "      <td>60-69</td>\n",
       "      <td>560375</td>\n",
       "      <td>0.499478</td>\n",
       "      <td>Minst 4 doser</td>\n",
       "    </tr>\n",
       "    <tr>\n",
       "      <th>5</th>\n",
       "      <td>| Sverige |</td>\n",
       "      <td>70-79</td>\n",
       "      <td>828445</td>\n",
       "      <td>0.801892</td>\n",
       "      <td>Minst 4 doser</td>\n",
       "    </tr>\n",
       "    <tr>\n",
       "      <th>6</th>\n",
       "      <td>| Sverige |</td>\n",
       "      <td>80-89</td>\n",
       "      <td>428931</td>\n",
       "      <td>0.863475</td>\n",
       "      <td>Minst 4 doser</td>\n",
       "    </tr>\n",
       "    <tr>\n",
       "      <th>7</th>\n",
       "      <td>| Sverige |</td>\n",
       "      <td>90 eller äldre</td>\n",
       "      <td>97491</td>\n",
       "      <td>0.854128</td>\n",
       "      <td>Minst 4 doser</td>\n",
       "    </tr>\n",
       "    <tr>\n",
       "      <th>8</th>\n",
       "      <td>| Sverige |</td>\n",
       "      <td>Totalt</td>\n",
       "      <td>2427358</td>\n",
       "      <td>0.290791</td>\n",
       "      <td>Minst 4 doser</td>\n",
       "    </tr>\n",
       "    <tr>\n",
       "      <th>9</th>\n",
       "      <td>Stockholm</td>\n",
       "      <td>18-29</td>\n",
       "      <td>9473</td>\n",
       "      <td>0.027244</td>\n",
       "      <td>Minst 4 doser</td>\n",
       "    </tr>\n",
       "  </tbody>\n",
       "</table>\n",
       "</div>"
      ],
      "text/plain": [
       "        Region     Åldersgrupp  Antal vaccinerade  Andel vaccinerade  \\\n",
       "0  | Sverige |           18-29              40593           0.027503   \n",
       "1  | Sverige |           30-39              78949           0.053795   \n",
       "2  | Sverige |           40-49             133004           0.102456   \n",
       "3  | Sverige |           50-59             259570           0.193738   \n",
       "4  | Sverige |           60-69             560375           0.499478   \n",
       "5  | Sverige |           70-79             828445           0.801892   \n",
       "6  | Sverige |           80-89             428931           0.863475   \n",
       "7  | Sverige |  90 eller äldre              97491           0.854128   \n",
       "8  | Sverige |          Totalt            2427358           0.290791   \n",
       "9    Stockholm           18-29               9473           0.027244   \n",
       "\n",
       "  Vaccinationsstatus  \n",
       "0      Minst 4 doser  \n",
       "1      Minst 4 doser  \n",
       "2      Minst 4 doser  \n",
       "3      Minst 4 doser  \n",
       "4      Minst 4 doser  \n",
       "5      Minst 4 doser  \n",
       "6      Minst 4 doser  \n",
       "7      Minst 4 doser  \n",
       "8      Minst 4 doser  \n",
       "9      Minst 4 doser  "
      ]
     },
     "execution_count": 2,
     "metadata": {},
     "output_type": "execute_result"
    }
   ],
   "source": [
    "df.head(10)"
   ]
  },
  {
   "cell_type": "code",
   "execution_count": 3,
   "metadata": {},
   "outputs": [
    {
     "data": {
      "text/html": [
       "<div>\n",
       "<style scoped>\n",
       "    .dataframe tbody tr th:only-of-type {\n",
       "        vertical-align: middle;\n",
       "    }\n",
       "\n",
       "    .dataframe tbody tr th {\n",
       "        vertical-align: top;\n",
       "    }\n",
       "\n",
       "    .dataframe thead th {\n",
       "        text-align: right;\n",
       "    }\n",
       "</style>\n",
       "<table border=\"1\" class=\"dataframe\">\n",
       "  <thead>\n",
       "    <tr style=\"text-align: right;\">\n",
       "      <th></th>\n",
       "      <th>Region</th>\n",
       "      <th>Åldersgrupp</th>\n",
       "      <th>Antal vaccinerade</th>\n",
       "      <th>Andel vaccinerade</th>\n",
       "      <th>Vaccinationsstatus</th>\n",
       "    </tr>\n",
       "  </thead>\n",
       "  <tbody>\n",
       "    <tr>\n",
       "      <th>9</th>\n",
       "      <td>Stockholm</td>\n",
       "      <td>18-29</td>\n",
       "      <td>9473</td>\n",
       "      <td>0.027244</td>\n",
       "      <td>Minst 4 doser</td>\n",
       "    </tr>\n",
       "    <tr>\n",
       "      <th>10</th>\n",
       "      <td>Stockholm</td>\n",
       "      <td>30-39</td>\n",
       "      <td>22179</td>\n",
       "      <td>0.057296</td>\n",
       "      <td>Minst 4 doser</td>\n",
       "    </tr>\n",
       "    <tr>\n",
       "      <th>11</th>\n",
       "      <td>Stockholm</td>\n",
       "      <td>40-49</td>\n",
       "      <td>38117</td>\n",
       "      <td>0.113097</td>\n",
       "      <td>Minst 4 doser</td>\n",
       "    </tr>\n",
       "    <tr>\n",
       "      <th>12</th>\n",
       "      <td>Stockholm</td>\n",
       "      <td>50-59</td>\n",
       "      <td>68237</td>\n",
       "      <td>0.217092</td>\n",
       "      <td>Minst 4 doser</td>\n",
       "    </tr>\n",
       "    <tr>\n",
       "      <th>13</th>\n",
       "      <td>Stockholm</td>\n",
       "      <td>60-69</td>\n",
       "      <td>112060</td>\n",
       "      <td>0.484090</td>\n",
       "      <td>Minst 4 doser</td>\n",
       "    </tr>\n",
       "    <tr>\n",
       "      <th>14</th>\n",
       "      <td>Stockholm</td>\n",
       "      <td>70-79</td>\n",
       "      <td>146590</td>\n",
       "      <td>0.763637</td>\n",
       "      <td>Minst 4 doser</td>\n",
       "    </tr>\n",
       "    <tr>\n",
       "      <th>15</th>\n",
       "      <td>Stockholm</td>\n",
       "      <td>80-89</td>\n",
       "      <td>72690</td>\n",
       "      <td>0.823366</td>\n",
       "      <td>Minst 4 doser</td>\n",
       "    </tr>\n",
       "    <tr>\n",
       "      <th>16</th>\n",
       "      <td>Stockholm</td>\n",
       "      <td>90 eller äldre</td>\n",
       "      <td>16726</td>\n",
       "      <td>0.813640</td>\n",
       "      <td>Minst 4 doser</td>\n",
       "    </tr>\n",
       "    <tr>\n",
       "      <th>17</th>\n",
       "      <td>Stockholm</td>\n",
       "      <td>Totalt</td>\n",
       "      <td>486072</td>\n",
       "      <td>0.253367</td>\n",
       "      <td>Minst 4 doser</td>\n",
       "    </tr>\n",
       "    <tr>\n",
       "      <th>18</th>\n",
       "      <td>Uppsala</td>\n",
       "      <td>18-29</td>\n",
       "      <td>2500</td>\n",
       "      <td>0.037599</td>\n",
       "      <td>Minst 4 doser</td>\n",
       "    </tr>\n",
       "  </tbody>\n",
       "</table>\n",
       "</div>"
      ],
      "text/plain": [
       "       Region     Åldersgrupp  Antal vaccinerade  Andel vaccinerade  \\\n",
       "9   Stockholm           18-29               9473           0.027244   \n",
       "10  Stockholm           30-39              22179           0.057296   \n",
       "11  Stockholm           40-49              38117           0.113097   \n",
       "12  Stockholm           50-59              68237           0.217092   \n",
       "13  Stockholm           60-69             112060           0.484090   \n",
       "14  Stockholm           70-79             146590           0.763637   \n",
       "15  Stockholm           80-89              72690           0.823366   \n",
       "16  Stockholm  90 eller äldre              16726           0.813640   \n",
       "17  Stockholm          Totalt             486072           0.253367   \n",
       "18    Uppsala           18-29               2500           0.037599   \n",
       "\n",
       "   Vaccinationsstatus  \n",
       "9       Minst 4 doser  \n",
       "10      Minst 4 doser  \n",
       "11      Minst 4 doser  \n",
       "12      Minst 4 doser  \n",
       "13      Minst 4 doser  \n",
       "14      Minst 4 doser  \n",
       "15      Minst 4 doser  \n",
       "16      Minst 4 doser  \n",
       "17      Minst 4 doser  \n",
       "18      Minst 4 doser  "
      ]
     },
     "execution_count": 3,
     "metadata": {},
     "output_type": "execute_result"
    }
   ],
   "source": [
    "# remove first 9 rows from the dataframe, since they represent whole Sweden\n",
    "df.drop(df.index[:9], inplace=True)\n",
    "df.head(10)"
   ]
  },
  {
   "cell_type": "code",
   "execution_count": 4,
   "metadata": {},
   "outputs": [
    {
     "name": "stdout",
     "output_type": "stream",
     "text": [
      "<class 'pandas.core.frame.DataFrame'>\n",
      "RangeIndex: 189 entries, 9 to 197\n",
      "Data columns (total 5 columns):\n",
      " #   Column              Non-Null Count  Dtype  \n",
      "---  ------              --------------  -----  \n",
      " 0   Region              189 non-null    object \n",
      " 1   Åldersgrupp         189 non-null    object \n",
      " 2   Antal vaccinerade   189 non-null    int64  \n",
      " 3   Andel vaccinerade   189 non-null    float64\n",
      " 4   Vaccinationsstatus  189 non-null    object \n",
      "dtypes: float64(1), int64(1), object(3)\n",
      "memory usage: 7.5+ KB\n"
     ]
    }
   ],
   "source": [
    "# explore the data\n",
    "df.info()"
   ]
  },
  {
   "cell_type": "code",
   "execution_count": 5,
   "metadata": {},
   "outputs": [
    {
     "data": {
      "text/html": [
       "<div>\n",
       "<style scoped>\n",
       "    .dataframe tbody tr th:only-of-type {\n",
       "        vertical-align: middle;\n",
       "    }\n",
       "\n",
       "    .dataframe tbody tr th {\n",
       "        vertical-align: top;\n",
       "    }\n",
       "\n",
       "    .dataframe thead th {\n",
       "        text-align: right;\n",
       "    }\n",
       "</style>\n",
       "<table border=\"1\" class=\"dataframe\">\n",
       "  <thead>\n",
       "    <tr style=\"text-align: right;\">\n",
       "      <th></th>\n",
       "      <th>Antal vaccinerade</th>\n",
       "      <th>Andel vaccinerade</th>\n",
       "    </tr>\n",
       "  </thead>\n",
       "  <tbody>\n",
       "    <tr>\n",
       "      <th>count</th>\n",
       "      <td>189.000000</td>\n",
       "      <td>189.000000</td>\n",
       "    </tr>\n",
       "    <tr>\n",
       "      <th>mean</th>\n",
       "      <td>25686.328042</td>\n",
       "      <td>0.423421</td>\n",
       "    </tr>\n",
       "    <tr>\n",
       "      <th>std</th>\n",
       "      <td>53699.001945</td>\n",
       "      <td>0.339856</td>\n",
       "    </tr>\n",
       "    <tr>\n",
       "      <th>min</th>\n",
       "      <td>184.000000</td>\n",
       "      <td>0.012397</td>\n",
       "    </tr>\n",
       "    <tr>\n",
       "      <th>25%</th>\n",
       "      <td>2913.000000</td>\n",
       "      <td>0.088603</td>\n",
       "    </tr>\n",
       "    <tr>\n",
       "      <th>50%</th>\n",
       "      <td>8672.000000</td>\n",
       "      <td>0.322730</td>\n",
       "    </tr>\n",
       "    <tr>\n",
       "      <th>75%</th>\n",
       "      <td>23911.000000</td>\n",
       "      <td>0.840179</td>\n",
       "    </tr>\n",
       "    <tr>\n",
       "      <th>max</th>\n",
       "      <td>486072.000000</td>\n",
       "      <td>0.917019</td>\n",
       "    </tr>\n",
       "  </tbody>\n",
       "</table>\n",
       "</div>"
      ],
      "text/plain": [
       "       Antal vaccinerade  Andel vaccinerade\n",
       "count         189.000000         189.000000\n",
       "mean        25686.328042           0.423421\n",
       "std         53699.001945           0.339856\n",
       "min           184.000000           0.012397\n",
       "25%          2913.000000           0.088603\n",
       "50%          8672.000000           0.322730\n",
       "75%         23911.000000           0.840179\n",
       "max        486072.000000           0.917019"
      ]
     },
     "execution_count": 5,
     "metadata": {},
     "output_type": "execute_result"
    }
   ],
   "source": [
    "# explore the data\n",
    "df.describe()"
   ]
  },
  {
   "cell_type": "code",
   "execution_count": 6,
   "metadata": {},
   "outputs": [
    {
     "data": {
      "text/plain": [
       "Index(['Region', 'Åldersgrupp', 'Antal vaccinerade', 'Andel vaccinerade',\n",
       "       'Vaccinationsstatus'],\n",
       "      dtype='object')"
      ]
     },
     "execution_count": 6,
     "metadata": {},
     "output_type": "execute_result"
    }
   ],
   "source": [
    "# explore the data\n",
    "df.columns"
   ]
  },
  {
   "cell_type": "code",
   "execution_count": 7,
   "metadata": {},
   "outputs": [
    {
     "data": {
      "text/plain": [
       "Region                0\n",
       "Åldersgrupp           0\n",
       "Antal vaccinerade     0\n",
       "Andel vaccinerade     0\n",
       "Vaccinationsstatus    0\n",
       "dtype: int64"
      ]
     },
     "execution_count": 7,
     "metadata": {},
     "output_type": "execute_result"
    }
   ],
   "source": [
    "# check for missing values\n",
    "df.isnull().sum()"
   ]
  },
  {
   "cell_type": "code",
   "execution_count": 8,
   "metadata": {},
   "outputs": [
    {
     "data": {
      "text/plain": [
       "array(['Stockholm', 'Uppsala', 'Södermanland', 'Östergötland',\n",
       "       'Jönköping', 'Kronoberg', 'Kalmar', 'Gotland', 'Blekinge', 'Skåne',\n",
       "       'Halland', 'Västra Götaland', 'Värmland', 'Örebro', 'Västmanland',\n",
       "       'Dalarna', 'Gävleborg', 'Västernorrland', 'Jämtland',\n",
       "       'Västerbotten', 'Norrbotten'], dtype=object)"
      ]
     },
     "execution_count": 8,
     "metadata": {},
     "output_type": "execute_result"
    }
   ],
   "source": [
    "df[\"Region\"].unique()"
   ]
  },
  {
   "cell_type": "code",
   "execution_count": 17,
   "metadata": {},
   "outputs": [
    {
     "data": {
      "application/vnd.plotly.v1+json": {
       "config": {
        "plotlyServerURL": "https://plot.ly"
       },
       "data": [
        {
         "hovertemplate": "variable=Antal vaccinerade<br>Region=%{x}<br>value=%{y}<extra></extra>",
         "legendgroup": "Antal vaccinerade",
         "line": {
          "color": "#636efa",
          "dash": "solid"
         },
         "marker": {
          "symbol": "circle"
         },
         "mode": "lines",
         "name": "Antal vaccinerade",
         "orientation": "v",
         "showlegend": true,
         "type": "scatter",
         "x": [
          "Stockholm",
          "Stockholm",
          "Stockholm",
          "Stockholm",
          "Stockholm",
          "Stockholm",
          "Stockholm",
          "Stockholm",
          "Stockholm",
          "Uppsala",
          "Uppsala",
          "Uppsala",
          "Uppsala",
          "Uppsala",
          "Uppsala",
          "Uppsala",
          "Uppsala",
          "Uppsala",
          "Södermanland",
          "Södermanland",
          "Södermanland",
          "Södermanland",
          "Södermanland",
          "Södermanland",
          "Södermanland",
          "Södermanland",
          "Södermanland",
          "Östergötland",
          "Östergötland",
          "Östergötland",
          "Östergötland",
          "Östergötland",
          "Östergötland",
          "Östergötland",
          "Östergötland",
          "Östergötland",
          "Jönköping",
          "Jönköping",
          "Jönköping",
          "Jönköping",
          "Jönköping",
          "Jönköping",
          "Jönköping",
          "Jönköping",
          "Jönköping",
          "Kronoberg",
          "Kronoberg",
          "Kronoberg",
          "Kronoberg",
          "Kronoberg",
          "Kronoberg",
          "Kronoberg",
          "Kronoberg",
          "Kronoberg",
          "Kalmar",
          "Kalmar",
          "Kalmar",
          "Kalmar",
          "Kalmar",
          "Kalmar",
          "Kalmar",
          "Kalmar",
          "Kalmar",
          "Gotland",
          "Gotland",
          "Gotland",
          "Gotland",
          "Gotland",
          "Gotland",
          "Gotland",
          "Gotland",
          "Gotland",
          "Blekinge",
          "Blekinge",
          "Blekinge",
          "Blekinge",
          "Blekinge",
          "Blekinge",
          "Blekinge",
          "Blekinge",
          "Blekinge",
          "Skåne",
          "Skåne",
          "Skåne",
          "Skåne",
          "Skåne",
          "Skåne",
          "Skåne",
          "Skåne",
          "Skåne",
          "Halland",
          "Halland",
          "Halland",
          "Halland",
          "Halland",
          "Halland",
          "Halland",
          "Halland",
          "Halland",
          "Västra Götaland",
          "Västra Götaland",
          "Västra Götaland",
          "Västra Götaland",
          "Västra Götaland",
          "Västra Götaland",
          "Västra Götaland",
          "Västra Götaland",
          "Västra Götaland",
          "Värmland",
          "Värmland",
          "Värmland",
          "Värmland",
          "Värmland",
          "Värmland",
          "Värmland",
          "Värmland",
          "Värmland",
          "Örebro",
          "Örebro",
          "Örebro",
          "Örebro",
          "Örebro",
          "Örebro",
          "Örebro",
          "Örebro",
          "Örebro",
          "Västmanland",
          "Västmanland",
          "Västmanland",
          "Västmanland",
          "Västmanland",
          "Västmanland",
          "Västmanland",
          "Västmanland",
          "Västmanland",
          "Dalarna",
          "Dalarna",
          "Dalarna",
          "Dalarna",
          "Dalarna",
          "Dalarna",
          "Dalarna",
          "Dalarna",
          "Dalarna",
          "Gävleborg",
          "Gävleborg",
          "Gävleborg",
          "Gävleborg",
          "Gävleborg",
          "Gävleborg",
          "Gävleborg",
          "Gävleborg",
          "Gävleborg",
          "Västernorrland",
          "Västernorrland",
          "Västernorrland",
          "Västernorrland",
          "Västernorrland",
          "Västernorrland",
          "Västernorrland",
          "Västernorrland",
          "Västernorrland",
          "Jämtland",
          "Jämtland",
          "Jämtland",
          "Jämtland",
          "Jämtland",
          "Jämtland",
          "Jämtland",
          "Jämtland",
          "Jämtland",
          "Västerbotten",
          "Västerbotten",
          "Västerbotten",
          "Västerbotten",
          "Västerbotten",
          "Västerbotten",
          "Västerbotten",
          "Västerbotten",
          "Västerbotten",
          "Norrbotten",
          "Norrbotten",
          "Norrbotten",
          "Norrbotten",
          "Norrbotten",
          "Norrbotten",
          "Norrbotten",
          "Norrbotten",
          "Norrbotten"
         ],
         "xaxis": "x",
         "y": [
          9473,
          22179,
          38117,
          68237,
          112060,
          146590,
          72690,
          16726,
          486072,
          2500,
          3977,
          5895,
          10552,
          23163,
          32733,
          14852,
          3278,
          96950,
          805,
          1555,
          3003,
          6405,
          17594,
          28508,
          13997,
          2957,
          74824,
          5947,
          8672,
          13453,
          22288,
          32136,
          40659,
          20764,
          4768,
          148687,
          881,
          1684,
          3018,
          6828,
          19636,
          30969,
          16355,
          4075,
          83446,
          361,
          762,
          1576,
          3671,
          10347,
          16724,
          8744,
          2196,
          44381,
          923,
          1705,
          2913,
          6089,
          16302,
          25823,
          13545,
          3027,
          70327,
          184,
          364,
          723,
          1640,
          4700,
          6813,
          3371,
          701,
          18496,
          552,
          1001,
          1841,
          3596,
          9254,
          14973,
          8238,
          1848,
          41303,
          3614,
          7208,
          12864,
          23911,
          58897,
          98615,
          56206,
          12784,
          274099,
          713,
          1506,
          2820,
          6401,
          19142,
          31105,
          15812,
          3666,
          81165,
          4759,
          9648,
          15335,
          33769,
          83709,
          127795,
          69262,
          16290,
          360567,
          1075,
          1770,
          3415,
          8281,
          20031,
          29507,
          15031,
          3575,
          82685,
          1037,
          1724,
          3260,
          7031,
          17654,
          27763,
          13464,
          2972,
          74905,
          787,
          1513,
          2868,
          6907,
          15806,
          24518,
          12990,
          2963,
          68352,
          1204,
          2608,
          3870,
          7836,
          19413,
          29932,
          15637,
          3407,
          83907,
          1213,
          2260,
          3984,
          8609,
          19150,
          28620,
          14006,
          3016,
          80858,
          1117,
          2359,
          4067,
          8348,
          16657,
          23986,
          12280,
          2557,
          71371,
          302,
          625,
          1068,
          2459,
          7928,
          12501,
          6099,
          1352,
          32334,
          1915,
          3616,
          5280,
          8847,
          18858,
          25429,
          12659,
          2759,
          79363,
          1231,
          2213,
          3634,
          7865,
          17938,
          24882,
          12929,
          2574,
          73266
         ],
         "yaxis": "y"
        },
        {
         "hovertemplate": "variable=Andel vaccinerade<br>Region=%{x}<br>value=%{y}<extra></extra>",
         "legendgroup": "Andel vaccinerade",
         "line": {
          "color": "#EF553B",
          "dash": "solid"
         },
         "marker": {
          "symbol": "circle"
         },
         "mode": "lines",
         "name": "Andel vaccinerade",
         "orientation": "v",
         "showlegend": true,
         "type": "scatter",
         "x": [
          "Stockholm",
          "Stockholm",
          "Stockholm",
          "Stockholm",
          "Stockholm",
          "Stockholm",
          "Stockholm",
          "Stockholm",
          "Stockholm",
          "Uppsala",
          "Uppsala",
          "Uppsala",
          "Uppsala",
          "Uppsala",
          "Uppsala",
          "Uppsala",
          "Uppsala",
          "Uppsala",
          "Södermanland",
          "Södermanland",
          "Södermanland",
          "Södermanland",
          "Södermanland",
          "Södermanland",
          "Södermanland",
          "Södermanland",
          "Södermanland",
          "Östergötland",
          "Östergötland",
          "Östergötland",
          "Östergötland",
          "Östergötland",
          "Östergötland",
          "Östergötland",
          "Östergötland",
          "Östergötland",
          "Jönköping",
          "Jönköping",
          "Jönköping",
          "Jönköping",
          "Jönköping",
          "Jönköping",
          "Jönköping",
          "Jönköping",
          "Jönköping",
          "Kronoberg",
          "Kronoberg",
          "Kronoberg",
          "Kronoberg",
          "Kronoberg",
          "Kronoberg",
          "Kronoberg",
          "Kronoberg",
          "Kronoberg",
          "Kalmar",
          "Kalmar",
          "Kalmar",
          "Kalmar",
          "Kalmar",
          "Kalmar",
          "Kalmar",
          "Kalmar",
          "Kalmar",
          "Gotland",
          "Gotland",
          "Gotland",
          "Gotland",
          "Gotland",
          "Gotland",
          "Gotland",
          "Gotland",
          "Gotland",
          "Blekinge",
          "Blekinge",
          "Blekinge",
          "Blekinge",
          "Blekinge",
          "Blekinge",
          "Blekinge",
          "Blekinge",
          "Blekinge",
          "Skåne",
          "Skåne",
          "Skåne",
          "Skåne",
          "Skåne",
          "Skåne",
          "Skåne",
          "Skåne",
          "Skåne",
          "Halland",
          "Halland",
          "Halland",
          "Halland",
          "Halland",
          "Halland",
          "Halland",
          "Halland",
          "Halland",
          "Västra Götaland",
          "Västra Götaland",
          "Västra Götaland",
          "Västra Götaland",
          "Västra Götaland",
          "Västra Götaland",
          "Västra Götaland",
          "Västra Götaland",
          "Västra Götaland",
          "Värmland",
          "Värmland",
          "Värmland",
          "Värmland",
          "Värmland",
          "Värmland",
          "Värmland",
          "Värmland",
          "Värmland",
          "Örebro",
          "Örebro",
          "Örebro",
          "Örebro",
          "Örebro",
          "Örebro",
          "Örebro",
          "Örebro",
          "Örebro",
          "Västmanland",
          "Västmanland",
          "Västmanland",
          "Västmanland",
          "Västmanland",
          "Västmanland",
          "Västmanland",
          "Västmanland",
          "Västmanland",
          "Dalarna",
          "Dalarna",
          "Dalarna",
          "Dalarna",
          "Dalarna",
          "Dalarna",
          "Dalarna",
          "Dalarna",
          "Dalarna",
          "Gävleborg",
          "Gävleborg",
          "Gävleborg",
          "Gävleborg",
          "Gävleborg",
          "Gävleborg",
          "Gävleborg",
          "Gävleborg",
          "Gävleborg",
          "Västernorrland",
          "Västernorrland",
          "Västernorrland",
          "Västernorrland",
          "Västernorrland",
          "Västernorrland",
          "Västernorrland",
          "Västernorrland",
          "Västernorrland",
          "Jämtland",
          "Jämtland",
          "Jämtland",
          "Jämtland",
          "Jämtland",
          "Jämtland",
          "Jämtland",
          "Jämtland",
          "Jämtland",
          "Västerbotten",
          "Västerbotten",
          "Västerbotten",
          "Västerbotten",
          "Västerbotten",
          "Västerbotten",
          "Västerbotten",
          "Västerbotten",
          "Västerbotten",
          "Norrbotten",
          "Norrbotten",
          "Norrbotten",
          "Norrbotten",
          "Norrbotten",
          "Norrbotten",
          "Norrbotten",
          "Norrbotten",
          "Norrbotten"
         ],
         "xaxis": "x",
         "y": [
          0.02724357591705851,
          0.05729630863900923,
          0.11309709253506375,
          0.21709197227056246,
          0.4840897505680689,
          0.7636367424972521,
          0.823365502242762,
          0.8136401225859804,
          0.25336704110088876,
          0.03759907355882751,
          0.0689410092395167,
          0.12410265047051641,
          0.223143292167146,
          0.5880127944760357,
          0.8867367394484478,
          0.8991947690258522,
          0.8592398427260812,
          0.30718778219609955,
          0.020750631540959942,
          0.041297073352100706,
          0.08513593967056955,
          0.16470376465747788,
          0.5103260239006845,
          0.828480092996222,
          0.869594930417495,
          0.8424501424501425,
          0.3129388835680319,
          0.08330531742029473,
          0.13816837677649607,
          0.24127046754783982,
          0.37676014672819785,
          0.6406570841889117,
          0.8595074516435894,
          0.8868198513709746,
          0.8834537706133037,
          0.39613422318133984,
          0.016780632749852385,
          0.03483153039485387,
          0.07026775320139697,
          0.14605347593582887,
          0.49620944101890224,
          0.8401790558871405,
          0.8776966834818074,
          0.8761556654482907,
          0.28748212839991044,
          0.01239740375699715,
          0.028707052441229657,
          0.06486931467380119,
          0.14653520676991857,
          0.48002783576896313,
          0.7980530635617484,
          0.8410118303356737,
          0.8237059264816204,
          0.2763724904100035,
          0.02969851024807748,
          0.05749258160237389,
          0.10696188587794668,
          0.18924042764793636,
          0.531546512765333,
          0.8448828687344588,
          0.88558352402746,
          0.8830221703617269,
          0.3514575139554525,
          0.024881676808654496,
          0.052171420381252685,
          0.10741346010993909,
          0.202119792950456,
          0.5715675544205278,
          0.8624050632911392,
          0.8896806545262602,
          0.8817610062893082,
          0.37048313436423363,
          0.026506602641056424,
          0.052562486872505775,
          0.09981565820863153,
          0.17128703439077833,
          0.5064302522847918,
          0.8085646398099147,
          0.8476180677024385,
          0.8543689320388349,
          0.32273011408032504,
          0.01813701627513663,
          0.03657472244210355,
          0.07168850275574974,
          0.134890726720899,
          0.4049378811525848,
          0.7346608856308481,
          0.8599580776939671,
          0.8442184507693323,
          0.24622110754089702,
          0.016349836043018644,
          0.035401142427305424,
          0.06880062457304577,
          0.1422223209722932,
          0.4962667219744893,
          0.8442351536206709,
          0.8697948181968205,
          0.8718192627824018,
          0.30067235918427826,
          0.018886269654181647,
          0.03807148663472997,
          0.07107598896896944,
          0.15168420721655504,
          0.44849553160026573,
          0.7677081393462811,
          0.8620037336652147,
          0.8516311166875784,
          0.25821793267815696,
          0.02867354831826305,
          0.05065682149909848,
          0.10857469875687534,
          0.22180853913322976,
          0.5787633631898296,
          0.884767616191904,
          0.9093714078286648,
          0.9034622188526662,
          0.3600243833409531,
          0.023077779014131522,
          0.04331658291457286,
          0.09078503996212649,
          0.18175942920662824,
          0.5304049993991107,
          0.8427331228751821,
          0.8621374143561503,
          0.8537776501005458,
          0.306168328203619,
          0.020700176227675636,
          0.040618540095036106,
          0.08860329327442924,
          0.18890165189804178,
          0.5185185185185185,
          0.8236361193227627,
          0.8719876485198362,
          0.8656149576394975,
          0.3068249151598944,
          0.034160873882820256,
          0.07297554423862555,
          0.1209261631722026,
          0.21332316990172326,
          0.5437967450068629,
          0.8358559061714604,
          0.9170185315505512,
          0.9039533032634651,
          0.3615917327805765,
          0.03292884871189294,
          0.06399003341072541,
          0.12414308862021688,
          0.22600546046413944,
          0.5434474147227425,
          0.818790410253476,
          0.8563741974931214,
          0.8536654401358619,
          0.34789754710243137,
          0.03684523024145666,
          0.07992816968218473,
          0.14439907686845377,
          0.25590092575562506,
          0.5608228679169052,
          0.8131398738897553,
          0.8539044572700091,
          0.8621038435603506,
          0.36198982567723154,
          0.017956950885955524,
          0.03648782766069239,
          0.06984500686678438,
          0.14679720613694705,
          0.49689752428705736,
          0.8048026781690594,
          0.8520536462699078,
          0.87001287001287,
          0.3044948158472158,
          0.045249403369485595,
          0.09577539398755132,
          0.1642608262817322,
          0.2713137880274779,
          0.6127103775424004,
          0.886151379983273,
          0.9142712696807742,
          0.9166112956810631,
          0.35885204243120306,
          0.03641042326007868,
          0.0706013718296379,
          0.1329771662763466,
          0.23998413328044427,
          0.5657961140550088,
          0.8397286625493571,
          0.8687676387582314,
          0.8608695652173913,
          0.3583355342312997
         ],
         "yaxis": "y"
        }
       ],
       "layout": {
        "legend": {
         "title": {
          "text": "variable"
         },
         "tracegroupgap": 0
        },
        "template": {
         "data": {
          "bar": [
           {
            "error_x": {
             "color": "#2a3f5f"
            },
            "error_y": {
             "color": "#2a3f5f"
            },
            "marker": {
             "line": {
              "color": "#E5ECF6",
              "width": 0.5
             },
             "pattern": {
              "fillmode": "overlay",
              "size": 10,
              "solidity": 0.2
             }
            },
            "type": "bar"
           }
          ],
          "barpolar": [
           {
            "marker": {
             "line": {
              "color": "#E5ECF6",
              "width": 0.5
             },
             "pattern": {
              "fillmode": "overlay",
              "size": 10,
              "solidity": 0.2
             }
            },
            "type": "barpolar"
           }
          ],
          "carpet": [
           {
            "aaxis": {
             "endlinecolor": "#2a3f5f",
             "gridcolor": "white",
             "linecolor": "white",
             "minorgridcolor": "white",
             "startlinecolor": "#2a3f5f"
            },
            "baxis": {
             "endlinecolor": "#2a3f5f",
             "gridcolor": "white",
             "linecolor": "white",
             "minorgridcolor": "white",
             "startlinecolor": "#2a3f5f"
            },
            "type": "carpet"
           }
          ],
          "choropleth": [
           {
            "colorbar": {
             "outlinewidth": 0,
             "ticks": ""
            },
            "type": "choropleth"
           }
          ],
          "contour": [
           {
            "colorbar": {
             "outlinewidth": 0,
             "ticks": ""
            },
            "colorscale": [
             [
              0,
              "#0d0887"
             ],
             [
              0.1111111111111111,
              "#46039f"
             ],
             [
              0.2222222222222222,
              "#7201a8"
             ],
             [
              0.3333333333333333,
              "#9c179e"
             ],
             [
              0.4444444444444444,
              "#bd3786"
             ],
             [
              0.5555555555555556,
              "#d8576b"
             ],
             [
              0.6666666666666666,
              "#ed7953"
             ],
             [
              0.7777777777777778,
              "#fb9f3a"
             ],
             [
              0.8888888888888888,
              "#fdca26"
             ],
             [
              1,
              "#f0f921"
             ]
            ],
            "type": "contour"
           }
          ],
          "contourcarpet": [
           {
            "colorbar": {
             "outlinewidth": 0,
             "ticks": ""
            },
            "type": "contourcarpet"
           }
          ],
          "heatmap": [
           {
            "colorbar": {
             "outlinewidth": 0,
             "ticks": ""
            },
            "colorscale": [
             [
              0,
              "#0d0887"
             ],
             [
              0.1111111111111111,
              "#46039f"
             ],
             [
              0.2222222222222222,
              "#7201a8"
             ],
             [
              0.3333333333333333,
              "#9c179e"
             ],
             [
              0.4444444444444444,
              "#bd3786"
             ],
             [
              0.5555555555555556,
              "#d8576b"
             ],
             [
              0.6666666666666666,
              "#ed7953"
             ],
             [
              0.7777777777777778,
              "#fb9f3a"
             ],
             [
              0.8888888888888888,
              "#fdca26"
             ],
             [
              1,
              "#f0f921"
             ]
            ],
            "type": "heatmap"
           }
          ],
          "heatmapgl": [
           {
            "colorbar": {
             "outlinewidth": 0,
             "ticks": ""
            },
            "colorscale": [
             [
              0,
              "#0d0887"
             ],
             [
              0.1111111111111111,
              "#46039f"
             ],
             [
              0.2222222222222222,
              "#7201a8"
             ],
             [
              0.3333333333333333,
              "#9c179e"
             ],
             [
              0.4444444444444444,
              "#bd3786"
             ],
             [
              0.5555555555555556,
              "#d8576b"
             ],
             [
              0.6666666666666666,
              "#ed7953"
             ],
             [
              0.7777777777777778,
              "#fb9f3a"
             ],
             [
              0.8888888888888888,
              "#fdca26"
             ],
             [
              1,
              "#f0f921"
             ]
            ],
            "type": "heatmapgl"
           }
          ],
          "histogram": [
           {
            "marker": {
             "pattern": {
              "fillmode": "overlay",
              "size": 10,
              "solidity": 0.2
             }
            },
            "type": "histogram"
           }
          ],
          "histogram2d": [
           {
            "colorbar": {
             "outlinewidth": 0,
             "ticks": ""
            },
            "colorscale": [
             [
              0,
              "#0d0887"
             ],
             [
              0.1111111111111111,
              "#46039f"
             ],
             [
              0.2222222222222222,
              "#7201a8"
             ],
             [
              0.3333333333333333,
              "#9c179e"
             ],
             [
              0.4444444444444444,
              "#bd3786"
             ],
             [
              0.5555555555555556,
              "#d8576b"
             ],
             [
              0.6666666666666666,
              "#ed7953"
             ],
             [
              0.7777777777777778,
              "#fb9f3a"
             ],
             [
              0.8888888888888888,
              "#fdca26"
             ],
             [
              1,
              "#f0f921"
             ]
            ],
            "type": "histogram2d"
           }
          ],
          "histogram2dcontour": [
           {
            "colorbar": {
             "outlinewidth": 0,
             "ticks": ""
            },
            "colorscale": [
             [
              0,
              "#0d0887"
             ],
             [
              0.1111111111111111,
              "#46039f"
             ],
             [
              0.2222222222222222,
              "#7201a8"
             ],
             [
              0.3333333333333333,
              "#9c179e"
             ],
             [
              0.4444444444444444,
              "#bd3786"
             ],
             [
              0.5555555555555556,
              "#d8576b"
             ],
             [
              0.6666666666666666,
              "#ed7953"
             ],
             [
              0.7777777777777778,
              "#fb9f3a"
             ],
             [
              0.8888888888888888,
              "#fdca26"
             ],
             [
              1,
              "#f0f921"
             ]
            ],
            "type": "histogram2dcontour"
           }
          ],
          "mesh3d": [
           {
            "colorbar": {
             "outlinewidth": 0,
             "ticks": ""
            },
            "type": "mesh3d"
           }
          ],
          "parcoords": [
           {
            "line": {
             "colorbar": {
              "outlinewidth": 0,
              "ticks": ""
             }
            },
            "type": "parcoords"
           }
          ],
          "pie": [
           {
            "automargin": true,
            "type": "pie"
           }
          ],
          "scatter": [
           {
            "fillpattern": {
             "fillmode": "overlay",
             "size": 10,
             "solidity": 0.2
            },
            "type": "scatter"
           }
          ],
          "scatter3d": [
           {
            "line": {
             "colorbar": {
              "outlinewidth": 0,
              "ticks": ""
             }
            },
            "marker": {
             "colorbar": {
              "outlinewidth": 0,
              "ticks": ""
             }
            },
            "type": "scatter3d"
           }
          ],
          "scattercarpet": [
           {
            "marker": {
             "colorbar": {
              "outlinewidth": 0,
              "ticks": ""
             }
            },
            "type": "scattercarpet"
           }
          ],
          "scattergeo": [
           {
            "marker": {
             "colorbar": {
              "outlinewidth": 0,
              "ticks": ""
             }
            },
            "type": "scattergeo"
           }
          ],
          "scattergl": [
           {
            "marker": {
             "colorbar": {
              "outlinewidth": 0,
              "ticks": ""
             }
            },
            "type": "scattergl"
           }
          ],
          "scattermapbox": [
           {
            "marker": {
             "colorbar": {
              "outlinewidth": 0,
              "ticks": ""
             }
            },
            "type": "scattermapbox"
           }
          ],
          "scatterpolar": [
           {
            "marker": {
             "colorbar": {
              "outlinewidth": 0,
              "ticks": ""
             }
            },
            "type": "scatterpolar"
           }
          ],
          "scatterpolargl": [
           {
            "marker": {
             "colorbar": {
              "outlinewidth": 0,
              "ticks": ""
             }
            },
            "type": "scatterpolargl"
           }
          ],
          "scatterternary": [
           {
            "marker": {
             "colorbar": {
              "outlinewidth": 0,
              "ticks": ""
             }
            },
            "type": "scatterternary"
           }
          ],
          "surface": [
           {
            "colorbar": {
             "outlinewidth": 0,
             "ticks": ""
            },
            "colorscale": [
             [
              0,
              "#0d0887"
             ],
             [
              0.1111111111111111,
              "#46039f"
             ],
             [
              0.2222222222222222,
              "#7201a8"
             ],
             [
              0.3333333333333333,
              "#9c179e"
             ],
             [
              0.4444444444444444,
              "#bd3786"
             ],
             [
              0.5555555555555556,
              "#d8576b"
             ],
             [
              0.6666666666666666,
              "#ed7953"
             ],
             [
              0.7777777777777778,
              "#fb9f3a"
             ],
             [
              0.8888888888888888,
              "#fdca26"
             ],
             [
              1,
              "#f0f921"
             ]
            ],
            "type": "surface"
           }
          ],
          "table": [
           {
            "cells": {
             "fill": {
              "color": "#EBF0F8"
             },
             "line": {
              "color": "white"
             }
            },
            "header": {
             "fill": {
              "color": "#C8D4E3"
             },
             "line": {
              "color": "white"
             }
            },
            "type": "table"
           }
          ]
         },
         "layout": {
          "annotationdefaults": {
           "arrowcolor": "#2a3f5f",
           "arrowhead": 0,
           "arrowwidth": 1
          },
          "autotypenumbers": "strict",
          "coloraxis": {
           "colorbar": {
            "outlinewidth": 0,
            "ticks": ""
           }
          },
          "colorscale": {
           "diverging": [
            [
             0,
             "#8e0152"
            ],
            [
             0.1,
             "#c51b7d"
            ],
            [
             0.2,
             "#de77ae"
            ],
            [
             0.3,
             "#f1b6da"
            ],
            [
             0.4,
             "#fde0ef"
            ],
            [
             0.5,
             "#f7f7f7"
            ],
            [
             0.6,
             "#e6f5d0"
            ],
            [
             0.7,
             "#b8e186"
            ],
            [
             0.8,
             "#7fbc41"
            ],
            [
             0.9,
             "#4d9221"
            ],
            [
             1,
             "#276419"
            ]
           ],
           "sequential": [
            [
             0,
             "#0d0887"
            ],
            [
             0.1111111111111111,
             "#46039f"
            ],
            [
             0.2222222222222222,
             "#7201a8"
            ],
            [
             0.3333333333333333,
             "#9c179e"
            ],
            [
             0.4444444444444444,
             "#bd3786"
            ],
            [
             0.5555555555555556,
             "#d8576b"
            ],
            [
             0.6666666666666666,
             "#ed7953"
            ],
            [
             0.7777777777777778,
             "#fb9f3a"
            ],
            [
             0.8888888888888888,
             "#fdca26"
            ],
            [
             1,
             "#f0f921"
            ]
           ],
           "sequentialminus": [
            [
             0,
             "#0d0887"
            ],
            [
             0.1111111111111111,
             "#46039f"
            ],
            [
             0.2222222222222222,
             "#7201a8"
            ],
            [
             0.3333333333333333,
             "#9c179e"
            ],
            [
             0.4444444444444444,
             "#bd3786"
            ],
            [
             0.5555555555555556,
             "#d8576b"
            ],
            [
             0.6666666666666666,
             "#ed7953"
            ],
            [
             0.7777777777777778,
             "#fb9f3a"
            ],
            [
             0.8888888888888888,
             "#fdca26"
            ],
            [
             1,
             "#f0f921"
            ]
           ]
          },
          "colorway": [
           "#636efa",
           "#EF553B",
           "#00cc96",
           "#ab63fa",
           "#FFA15A",
           "#19d3f3",
           "#FF6692",
           "#B6E880",
           "#FF97FF",
           "#FECB52"
          ],
          "font": {
           "color": "#2a3f5f"
          },
          "geo": {
           "bgcolor": "white",
           "lakecolor": "white",
           "landcolor": "#E5ECF6",
           "showlakes": true,
           "showland": true,
           "subunitcolor": "white"
          },
          "hoverlabel": {
           "align": "left"
          },
          "hovermode": "closest",
          "mapbox": {
           "style": "light"
          },
          "paper_bgcolor": "white",
          "plot_bgcolor": "#E5ECF6",
          "polar": {
           "angularaxis": {
            "gridcolor": "white",
            "linecolor": "white",
            "ticks": ""
           },
           "bgcolor": "#E5ECF6",
           "radialaxis": {
            "gridcolor": "white",
            "linecolor": "white",
            "ticks": ""
           }
          },
          "scene": {
           "xaxis": {
            "backgroundcolor": "#E5ECF6",
            "gridcolor": "white",
            "gridwidth": 2,
            "linecolor": "white",
            "showbackground": true,
            "ticks": "",
            "zerolinecolor": "white"
           },
           "yaxis": {
            "backgroundcolor": "#E5ECF6",
            "gridcolor": "white",
            "gridwidth": 2,
            "linecolor": "white",
            "showbackground": true,
            "ticks": "",
            "zerolinecolor": "white"
           },
           "zaxis": {
            "backgroundcolor": "#E5ECF6",
            "gridcolor": "white",
            "gridwidth": 2,
            "linecolor": "white",
            "showbackground": true,
            "ticks": "",
            "zerolinecolor": "white"
           }
          },
          "shapedefaults": {
           "line": {
            "color": "#2a3f5f"
           }
          },
          "ternary": {
           "aaxis": {
            "gridcolor": "white",
            "linecolor": "white",
            "ticks": ""
           },
           "baxis": {
            "gridcolor": "white",
            "linecolor": "white",
            "ticks": ""
           },
           "bgcolor": "#E5ECF6",
           "caxis": {
            "gridcolor": "white",
            "linecolor": "white",
            "ticks": ""
           }
          },
          "title": {
           "x": 0.05
          },
          "xaxis": {
           "automargin": true,
           "gridcolor": "white",
           "linecolor": "white",
           "ticks": "",
           "title": {
            "standoff": 15
           },
           "zerolinecolor": "white",
           "zerolinewidth": 2
          },
          "yaxis": {
           "automargin": true,
           "gridcolor": "white",
           "linecolor": "white",
           "ticks": "",
           "title": {
            "standoff": 15
           },
           "zerolinecolor": "white",
           "zerolinewidth": 2
          }
         }
        },
        "title": {
         "text": "Antal vaccinerade och andel vaccinerade per region"
        },
        "xaxis": {
         "anchor": "y",
         "domain": [
          0,
          1
         ],
         "title": {
          "text": "Region"
         }
        },
        "yaxis": {
         "anchor": "x",
         "domain": [
          0,
          1
         ],
         "title": {
          "text": "value"
         },
         "type": "log"
        }
       }
      }
     },
     "metadata": {},
     "output_type": "display_data"
    }
   ],
   "source": [
    "\n"
   ]
  },
  {
   "cell_type": "code",
   "execution_count": 10,
   "metadata": {},
   "outputs": [],
   "source": [
    "# "
   ]
  }
 ],
 "metadata": {
  "kernelspec": {
   "display_name": "Python 3.9.13 ('Databehandling-Elias-El-Haddad-9iwQgkqt')",
   "language": "python",
   "name": "python3"
  },
  "language_info": {
   "codemirror_mode": {
    "name": "ipython",
    "version": 3
   },
   "file_extension": ".py",
   "mimetype": "text/x-python",
   "name": "python",
   "nbconvert_exporter": "python",
   "pygments_lexer": "ipython3",
   "version": "3.9.13"
  },
  "orig_nbformat": 4,
  "vscode": {
   "interpreter": {
    "hash": "6df75d60d6b1e6dbb1338a2243622d2f470ea153e2a131d4eccba94b5571e331"
   }
  }
 },
 "nbformat": 4,
 "nbformat_minor": 2
}
