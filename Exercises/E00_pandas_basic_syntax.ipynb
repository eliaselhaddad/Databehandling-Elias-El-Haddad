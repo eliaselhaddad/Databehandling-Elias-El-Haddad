{
 "cells": [
  {
   "cell_type": "markdown",
   "metadata": {},
   "source": [
    "## 1. Cities in Sweden - create dataset"
   ]
  },
  {
   "cell_type": "code",
   "execution_count": 29,
   "metadata": {},
   "outputs": [
    {
     "name": "stdout",
     "output_type": "stream",
     "text": [
      "      Kommun  Population\n",
      "0      Malmö      347949\n",
      "1  Stockholm      975551\n",
      "2    Uppsala      233839\n",
      "3   Göteborg      583056\n"
     ]
    }
   ],
   "source": [
    "import pandas as pd\n",
    "\n",
    "swedish_cities = {\"Kommun\": [\"Malmö\", \"Stockholm\", \"Uppsala\", \"Göteborg\"], \"Population\": [347949, 975551, 233839, 583056]}\n",
    "df = pd.DataFrame(swedish_cities)\n",
    "print(df)"
   ]
  },
  {
   "cell_type": "code",
   "execution_count": 30,
   "metadata": {},
   "outputs": [
    {
     "data": {
      "text/plain": [
       "0        Malmö\n",
       "1    Stockholm\n",
       "2      Uppsala\n",
       "3     Göteborg\n",
       "Name: Kommun, dtype: object"
      ]
     },
     "execution_count": 30,
     "metadata": {},
     "output_type": "execute_result"
    }
   ],
   "source": [
    "df_kommun = df[\"Kommun\"]\n",
    "df_kommun"
   ]
  },
  {
   "cell_type": "code",
   "execution_count": 31,
   "metadata": {},
   "outputs": [
    {
     "data": {
      "text/html": [
       "<div>\n",
       "<style scoped>\n",
       "    .dataframe tbody tr th:only-of-type {\n",
       "        vertical-align: middle;\n",
       "    }\n",
       "\n",
       "    .dataframe tbody tr th {\n",
       "        vertical-align: top;\n",
       "    }\n",
       "\n",
       "    .dataframe thead th {\n",
       "        text-align: right;\n",
       "    }\n",
       "</style>\n",
       "<table border=\"1\" class=\"dataframe\">\n",
       "  <thead>\n",
       "    <tr style=\"text-align: right;\">\n",
       "      <th></th>\n",
       "      <th>Kommun</th>\n",
       "      <th>Population</th>\n",
       "    </tr>\n",
       "  </thead>\n",
       "  <tbody>\n",
       "    <tr>\n",
       "      <th>3</th>\n",
       "      <td>Göteborg</td>\n",
       "      <td>583056</td>\n",
       "    </tr>\n",
       "  </tbody>\n",
       "</table>\n",
       "</div>"
      ],
      "text/plain": [
       "     Kommun  Population\n",
       "3  Göteborg      583056"
      ]
     },
     "execution_count": 31,
     "metadata": {},
     "output_type": "execute_result"
    }
   ],
   "source": [
    "df_gothenburg = df.loc[df['Kommun'] == 'Göteborg']\n",
    "df_gothenburg"
   ]
  },
  {
   "cell_type": "code",
   "execution_count": 32,
   "metadata": {},
   "outputs": [
    {
     "name": "stdout",
     "output_type": "stream",
     "text": [
      "      Kommun  Population\n",
      "1  Stockholm      975551\n",
      "3   Göteborg      583056\n",
      "0      Malmö      347949\n",
      "2    Uppsala      233839\n"
     ]
    }
   ],
   "source": [
    "df_sorted = df.sort_values(by=\"Population\", ascending= False)\n",
    "print(df_sorted)"
   ]
  },
  {
   "cell_type": "code",
   "execution_count": 33,
   "metadata": {},
   "outputs": [
    {
     "name": "stdout",
     "output_type": "stream",
     "text": [
      "      Kommun  Population\n",
      "1  Stockholm      975551\n",
      "3   Göteborg      583056\n",
      "0      Malmö      347949\n"
     ]
    }
   ],
   "source": [
    "df_largest = df_sorted.iloc[:3]\n",
    "print(df_largest)"
   ]
  },
  {
   "cell_type": "code",
   "execution_count": 34,
   "metadata": {},
   "outputs": [
    {
     "name": "stdout",
     "output_type": "stream",
     "text": [
      "      Kommun  Population  Population %\n",
      "1  Stockholm      975551           9.4\n",
      "3   Göteborg      583056           5.6\n",
      "0      Malmö      347949           3.4\n",
      "2    Uppsala      233839           2.3\n"
     ]
    }
   ],
   "source": [
    "df_sorted[\"Population %\"] = round(df_sorted[\"Population\"] / 10379295 * 100, 1)\n",
    "print(df_sorted)"
   ]
  },
  {
   "cell_type": "markdown",
   "metadata": {},
   "source": [
    "## 2. Cities in Sweden - real dataset"
   ]
  },
  {
   "cell_type": "code",
   "execution_count": null,
   "metadata": {},
   "outputs": [],
   "source": []
  }
 ],
 "metadata": {
  "kernelspec": {
   "display_name": "Python 3.9.13 ('Databehandling-Elias-El-Haddad-9iwQgkqt')",
   "language": "python",
   "name": "python3"
  },
  "language_info": {
   "codemirror_mode": {
    "name": "ipython",
    "version": 3
   },
   "file_extension": ".py",
   "mimetype": "text/x-python",
   "name": "python",
   "nbconvert_exporter": "python",
   "pygments_lexer": "ipython3",
   "version": "3.9.13"
  },
  "orig_nbformat": 4,
  "vscode": {
   "interpreter": {
    "hash": "6df75d60d6b1e6dbb1338a2243622d2f470ea153e2a131d4eccba94b5571e331"
   }
  }
 },
 "nbformat": 4,
 "nbformat_minor": 2
}
